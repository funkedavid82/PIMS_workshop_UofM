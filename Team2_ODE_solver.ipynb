{
 "cells": [
  {
   "cell_type": "markdown",
   "metadata": {},
   "source": [
    "Team 2.\n",
    "\n",
    "Notes from Michael Lamoureux.\n",
    "\n",
    "Let's do a quick example of how to make an ODE solver for their type of system.\n",
    "\n",
    "They have a bunch of variables $c_1, c_2, \\ldots, c_9$ and $e_1, e_2$ etc, and a system of ODEs to connect them all together.\n",
    "\n",
    "It helps in the notation for the code to rename the variables to something consistent, like $c_1$ through to $c_{15}$ or whatever. The ODE can be represented as working on the column vector of coefficients $\\mathbf{c} = [c_1, c_2, \\ldots, c_{15}]^t.$ We write the ODE as\n",
    "$$\\frac{d}{dt} \\mathbf{c} = A\\mathbf{c} + (B\\mathbf{c})\\mathbf{c}.$$\n",
    "Here, $A$ is the matrix of coefficients for the linear part.\n",
    "\n",
    "$B$ is a bit more complicated. It is a multidimentional array, representing a matrix of matrices, holding the coefficients for the quadratic part. In Python, it is easy to work with multidimensional arrays, so let's just do it. \n",
    "\n",
    "\n",
    "The advantage of this notation is that for Python or Matlab, you just have to set up the matrices correctly, then call the ode code directly."
   ]
  },
  {
   "cell_type": "markdown",
   "metadata": {},
   "source": [
    "As an example, suppose we had just 3 variables $c_1,c_2,c_3$ and the ODE system is\n",
    "$$(d/dt)c_1 = .1 c_1 + .2c_2 + .3 c_1 c_2$$\n",
    "$$(d/dt)c_2 = .2 c_2 + .3c_3 + .4 c_2 c_3$$\n",
    "$$(d/dt)c_3 = .3 c_3 + .5c_1c_3$$\n",
    "\n",
    "\n",
    "In this case we see the matrices $A$ and $B$ are given as\n",
    "$$A =  \\left( \\begin{array}{ccc}\n",
    ".1 & .2 & 0 \\\\\n",
    "0 & .2 & .3 \\\\\n",
    "0 & 0 & .3 \\end{array} \\right)$$ and\n",
    "$$B =  \n",
    "\\left[ \\begin{array}{c}\n",
    "\\left( \\begin{array}{ccc}\n",
    "0 & .3 & 0 \\\\\n",
    "0 & 0 & 0 \\\\\n",
    "0 & 0 & 0 \\end{array} \\right)\\\\\n",
    "\\left( \\begin{array}{ccc}\n",
    "0 & 0 & 0 \\\\\n",
    "0 & 0 & .4 \\\\\n",
    "0 & 0 & 0 \\end{array} \\right)\\\\\n",
    "\\left( \\begin{array}{ccc}\n",
    "0 & 0 & 0 \\\\\n",
    "0 & 0 & 0 \\\\\n",
    ".5 & 0 & 0 \\end{array} \\right)\\\\\n",
    "\\end{array} \\right]$$"
   ]
  },
  {
   "cell_type": "code",
   "execution_count": 1,
   "metadata": {
    "collapsed": true
   },
   "outputs": [],
   "source": [
    "# Here we import all the code we need. And plot inline\n",
    "\n",
    "%matplotlib inline\n",
    "import numpy as np\n",
    "import matplotlib.pyplot as plt\n",
    "from scipy.integrate import odeint # This is the numerical solver"
   ]
  },
  {
   "cell_type": "code",
   "execution_count": 32,
   "metadata": {
    "collapsed": true
   },
   "outputs": [],
   "source": [
    "# May array A\n",
    "A = np.array([[.1,.2,0],[0,.2,.3],[0,0,.3]])\n"
   ]
  },
  {
   "cell_type": "code",
   "execution_count": 44,
   "metadata": {},
   "outputs": [],
   "source": [
    "# B is the multidimensional array, with three parts\n",
    "B1 = np.array([[0,.3,0],[0,0,0],[0,0,0]])\n",
    "B2 = np.array([[0,0,0],[0,0,.4],[0,0,0]])\n",
    "B3 = np.array([[0,0,0],[0,0,0],[.5,0,0]])\n",
    "B = np.array([B1,B2,B3])"
   ]
  },
  {
   "cell_type": "code",
   "execution_count": 45,
   "metadata": {},
   "outputs": [
    {
     "data": {
      "text/plain": [
       "array([[[ 0. ,  0.3,  0. ],\n",
       "        [ 0. ,  0. ,  0. ],\n",
       "        [ 0. ,  0. ,  0. ]],\n",
       "\n",
       "       [[ 0. ,  0. ,  0. ],\n",
       "        [ 0. ,  0. ,  0.4],\n",
       "        [ 0. ,  0. ,  0. ]],\n",
       "\n",
       "       [[ 0. ,  0. ,  0. ],\n",
       "        [ 0. ,  0. ,  0. ],\n",
       "        [ 0.5,  0. ,  0. ]]])"
      ]
     },
     "execution_count": 45,
     "metadata": {},
     "output_type": "execute_result"
    }
   ],
   "source": [
    "B"
   ]
  },
  {
   "cell_type": "code",
   "execution_count": 38,
   "metadata": {},
   "outputs": [
    {
     "data": {
      "text/plain": [
       "array([ 0.2,  0.2,  0. ])"
      ]
     },
     "execution_count": 38,
     "metadata": {},
     "output_type": "execute_result"
    }
   ],
   "source": [
    "# Check that A times a basis vector gives the correct column of coefficients in A.\n",
    "A.dot(np.array([0,1,0]))"
   ]
  },
  {
   "cell_type": "code",
   "execution_count": 51,
   "metadata": {},
   "outputs": [
    {
     "data": {
      "text/plain": [
       "array([ 0. ,  0. ,  0.5])"
      ]
     },
     "execution_count": 51,
     "metadata": {},
     "output_type": "execute_result"
    }
   ],
   "source": [
    "# Check that B times a vector, twice, gives the right quadratic coefficient. e.g.\n",
    "(B.dot(np.array([11,0,7]))).dot(np.array([11,0,7]))/(7*11)"
   ]
  },
  {
   "cell_type": "markdown",
   "metadata": {},
   "source": [
    "## Solving the ODE. \n",
    "\n",
    "Read up on Michael's notes on Github:\n",
    "\n",
    "https://github.com/mlamoureux/GMMIW_2017/blob/master/ODEtests.ipynb\n"
   ]
  },
  {
   "cell_type": "code",
   "execution_count": 53,
   "metadata": {},
   "outputs": [
    {
     "data": {
      "text/plain": [
       "[<matplotlib.lines.Line2D at 0x10dd004a8>,\n",
       " <matplotlib.lines.Line2D at 0x10dd00668>,\n",
       " <matplotlib.lines.Line2D at 0x10dd00fd0>]"
      ]
     },
     "execution_count": 53,
     "metadata": {},
     "output_type": "execute_result"
    },
    {
     "data": {
      "image/png": "[encoded data removed]",
      "text/plain": [
       "<matplotlib.figure.Figure at 0x10a97e1d0>"
      ]
     },
     "metadata": {},
     "output_type": "display_data"
    }
   ],
   "source": [
    "# this is the function of the right hand side of the ODE\n",
    "\n",
    "def rhs(c,t,A,B):  \n",
    "    return A.dot(c) +(B.dot(c)).dot(c)\n",
    "\n",
    "# Now we set up the inital time range, and initial values for coefficients c1, c2, c3\n",
    "t_arr=np.linspace(0,1,101)\n",
    "c_init =[1,2,3]\n",
    "\n",
    "# Here is the call to the ODE solver (it is really that simple)\n",
    "c_arr=odeint(rhs,c_init,t_arr, args=(A,B,))\n",
    "\n",
    "# now we split out the 3 variables c1,c2,c3 and plot thsm. \n",
    "c1,c2,c3 = c_arr[:,0],c_arr[:,1],c_arr[:,2]\n",
    "plt.ion()\n",
    "plt.plot(t_arr,c1,t_arr,c2,t_arr,c3)"
   ]
  },
  {
   "cell_type": "markdown",
   "metadata": {},
   "source": [
    "Well,it looks like it works!\n",
    "\n",
    "Next step is to try with the many coeffcients of the problem."
   ]
  },
  {
   "cell_type": "code",
   "execution_count": null,
   "metadata": {
    "collapsed": true
   },
   "outputs": [],
   "source": []
  }
 ],
 "metadata": {
  "kernelspec": {
   "display_name": "Python 3",
   "language": "python",
   "name": "python3"
  },
  "language_info": {
   "codemirror_mode": {
    "name": "ipython",
    "version": 3
   },
   "file_extension": ".py",
   "mimetype": "text/x-python",
   "name": "python",
   "nbconvert_exporter": "python",
   "pygments_lexer": "ipython3",
   "version": "3.6.1"
  }
 },
 "nbformat": 4,
 "nbformat_minor": 2
}
